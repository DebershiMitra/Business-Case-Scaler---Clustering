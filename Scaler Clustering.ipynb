{
 "cells": [
  {
   "cell_type": "code",
   "execution_count": 1,
   "id": "02d8f2c6-d91e-40fc-936f-42c81e8fbbf9",
   "metadata": {},
   "outputs": [],
   "source": [
    "import pandas as pd\n",
    "import numpy as np\n",
    "import matplotlib.pyplot as plt\n",
    "import seaborn as sns\n",
    "from sklearn.preprocessing import StandardScaler, LabelEncoder\n",
    "from sklearn.cluster import KMeans\n",
    "from scipy.cluster.hierarchy import dendrogram, linkage\n",
    "import re\n"
   ]
  },
  {
   "cell_type": "code",
   "execution_count": 2,
   "id": "db33b76e-069c-48a9-bfea-404bee8e40be",
   "metadata": {},
   "outputs": [
    {
     "name": "stdout",
     "output_type": "stream",
     "text": [
      "   Unnamed: 0               company_hash  \\\n",
      "0           0             atrgxnnt xzaxv   \n",
      "1           1  qtrxvzwt xzegwgbb rxbxnta   \n",
      "2           2              ojzwnvwnxw vx   \n",
      "3           3                  ngpgutaxv   \n",
      "4           4                 qxen sqghu   \n",
      "\n",
      "                                          email_hash  orgyear      ctc  \\\n",
      "0  6de0a4417d18ab14334c3f43397fc13b30c35149d70c05...   2016.0  1100000   \n",
      "1  b0aaf1ac138b53cb6e039ba2c3d6604a250d02d5145c10...   2018.0   449999   \n",
      "2  4860c670bcd48fb96c02a4b0ae3608ae6fdd98176112e9...   2015.0  2000000   \n",
      "3  effdede7a2e7c2af664c8a31d9346385016128d66bbc58...   2017.0   700000   \n",
      "4  6ff54e709262f55cb999a1c1db8436cb2055d8f79ab520...   2017.0  1400000   \n",
      "\n",
      "         job_position  ctc_updated_year  \n",
      "0               Other            2020.0  \n",
      "1  FullStack Engineer            2019.0  \n",
      "2    Backend Engineer            2020.0  \n",
      "3    Backend Engineer            2019.0  \n",
      "4  FullStack Engineer            2019.0  \n",
      "<class 'pandas.core.frame.DataFrame'>\n",
      "RangeIndex: 205843 entries, 0 to 205842\n",
      "Data columns (total 7 columns):\n",
      " #   Column            Non-Null Count   Dtype  \n",
      "---  ------            --------------   -----  \n",
      " 0   Unnamed: 0        205843 non-null  int64  \n",
      " 1   company_hash      205799 non-null  object \n",
      " 2   email_hash        205843 non-null  object \n",
      " 3   orgyear           205757 non-null  float64\n",
      " 4   ctc               205843 non-null  int64  \n",
      " 5   job_position      153279 non-null  object \n",
      " 6   ctc_updated_year  205843 non-null  float64\n",
      "dtypes: float64(2), int64(2), object(3)\n",
      "memory usage: 11.0+ MB\n",
      "None\n",
      "          Unnamed: 0        orgyear           ctc  ctc_updated_year\n",
      "count  205843.000000  205757.000000  2.058430e+05     205843.000000\n",
      "mean   103273.941786    2014.882750  2.271685e+06       2019.628231\n",
      "std     59741.306484      63.571115  1.180091e+07          1.325104\n",
      "min         0.000000       0.000000  2.000000e+00       2015.000000\n",
      "25%     51518.500000    2013.000000  5.300000e+05       2019.000000\n",
      "50%    103151.000000    2016.000000  9.500000e+05       2020.000000\n",
      "75%    154992.500000    2018.000000  1.700000e+06       2021.000000\n",
      "max    206922.000000   20165.000000  1.000150e+09       2021.000000\n"
     ]
    }
   ],
   "source": [
    "# Load the dataset\n",
    "df = pd.read_csv('scaler_clustering.csv')\n",
    "\n",
    "# Display the first few rows of the dataset\n",
    "print(df.head())\n",
    "\n",
    "# Check the structure and characteristics of the dataset\n",
    "print(df.info())\n",
    "print(df.describe())"
   ]
  },
  {
   "cell_type": "code",
   "execution_count": 3,
   "id": "cce9ba86-5bbd-49e2-8534-86b704d21a0c",
   "metadata": {},
   "outputs": [
    {
     "name": "stdout",
     "output_type": "stream",
     "text": [
      "Number of unique emails: 153443\n",
      "email_hash\n",
      "bbace3cc586400bbc65765bc6a16b77d8913836cfc98b77c05488f02f5714a4b    10\n",
      "6842660273f70e9aa239026ba33bfe82275d6ab0d20124021b952b5bc3d07e6c     9\n",
      "298528ce3160cc761e4dc37a07337ee2e0589df251d73645aae209b010210eee     9\n",
      "3e5e49daa5527a6d5a33599b238bf9bf31e85b9efa9a94f1c88c5e15a6f31378     9\n",
      "b4d5afa09bec8689017d8b29701b80d664ca37b83cb883376b2e95191320da66     8\n",
      "Name: count, dtype: int64\n"
     ]
    }
   ],
   "source": [
    "# Count the unique emails\n",
    "unique_emails = df['email_hash'].nunique()\n",
    "print(f\"Number of unique emails: {unique_emails}\")\n",
    "\n",
    "# Frequency of each email hash\n",
    "email_freq = df['email_hash'].value_counts()\n",
    "print(email_freq.head())\n"
   ]
  },
  {
   "cell_type": "code",
   "execution_count": 4,
   "id": "0c63ca07-a1cd-4f96-bca0-68f4271d945f",
   "metadata": {},
   "outputs": [
    {
     "name": "stdout",
     "output_type": "stream",
     "text": [
      "Unnamed: 0              0\n",
      "company_hash           44\n",
      "email_hash              0\n",
      "orgyear                86\n",
      "ctc                     0\n",
      "job_position        52564\n",
      "ctc_updated_year        0\n",
      "dtype: int64\n"
     ]
    }
   ],
   "source": [
    "# Check for missing values\n",
    "missing_values = df.isnull().sum()\n",
    "print(missing_values)\n"
   ]
  },
  {
   "cell_type": "code",
   "execution_count": 5,
   "id": "e032633b-9a1b-499e-8b7d-b16e7f734d2d",
   "metadata": {},
   "outputs": [
    {
     "name": "stdout",
     "output_type": "stream",
     "text": [
      "0               atrgxnnt xzaxv\n",
      "1    qtrxvzwt xzegwgbb rxbxnta\n",
      "2                ojzwnvwnxw vx\n",
      "3                    ngpgutaxv\n",
      "4                   qxen sqghu\n",
      "Name: company_hash, dtype: object\n"
     ]
    }
   ],
   "source": [
    "# Convert 'Company_hash' column to string, handle NaN values, and clean it using Regex\n",
    "df['company_hash'] = df['company_hash'].apply(lambda x: re.sub('[^A-Za-z0-9 ]+', '', str(x) if pd.notnull(x) else ''))\n",
    "print(df['company_hash'].head())\n",
    "\n",
    "# Impute missing values with mean for numeric columns\n",
    "numeric_columns = df.select_dtypes(include=['float64', 'int64']).columns\n",
    "df[numeric_columns] = df[numeric_columns].fillna(df[numeric_columns].mean())\n",
    "\n",
    "# For categorical columns, you could use mode imputation if needed:\n",
    "df['job_position'].fillna(df['job_position'].mode()[0], inplace=True)"
   ]
  },
  {
   "cell_type": "code",
   "execution_count": 6,
   "id": "860cfa47-365d-4b9f-9b63-72bdeffc4ae2",
   "metadata": {},
   "outputs": [
    {
     "name": "stdout",
     "output_type": "stream",
     "text": [
      "Number of duplicate rows: 0\n"
     ]
    }
   ],
   "source": [
    "# Check for duplicates\n",
    "duplicates = df.duplicated().sum()\n",
    "print(f\"Number of duplicate rows: {duplicates}\")\n",
    "\n",
    "# Drop duplicates\n",
    "df.drop_duplicates(inplace=True)\n"
   ]
  },
  {
   "cell_type": "code",
   "execution_count": 7,
   "id": "59c774a6-ee81-473b-a8b4-4223c0615045",
   "metadata": {},
   "outputs": [
    {
     "name": "stdout",
     "output_type": "stream",
     "text": [
      "   orgyear  Years_of_Experience\n",
      "0   2016.0                  8.0\n",
      "1   2018.0                  6.0\n",
      "2   2015.0                  9.0\n",
      "3   2017.0                  7.0\n",
      "4   2017.0                  7.0\n"
     ]
    }
   ],
   "source": [
    "# Create 'Years of Experience' column\n",
    "current_year = 2024\n",
    "df['Years_of_Experience'] = current_year - df['orgyear']\n",
    "print(df[['orgyear', 'Years_of_Experience']].head())\n"
   ]
  },
  {
   "cell_type": "code",
   "execution_count": 8,
   "id": "2e824d90-4fcc-440f-a3b4-7b8b99d31269",
   "metadata": {},
   "outputs": [
    {
     "name": "stdout",
     "output_type": "stream",
     "text": [
      "   Unnamed: 0               company_hash  \\\n",
      "0           0             atrgxnnt xzaxv   \n",
      "1           1  qtrxvzwt xzegwgbb rxbxnta   \n",
      "2           2              ojzwnvwnxw vx   \n",
      "3           3                  ngpgutaxv   \n",
      "4           4                 qxen sqghu   \n",
      "\n",
      "                                          email_hash  orgyear      ctc  \\\n",
      "0  6de0a4417d18ab14334c3f43397fc13b30c35149d70c05...   2016.0  1100000   \n",
      "1  b0aaf1ac138b53cb6e039ba2c3d6604a250d02d5145c10...   2018.0   449999   \n",
      "2  4860c670bcd48fb96c02a4b0ae3608ae6fdd98176112e9...   2015.0  2000000   \n",
      "3  effdede7a2e7c2af664c8a31d9346385016128d66bbc58...   2017.0   700000   \n",
      "4  6ff54e709262f55cb999a1c1db8436cb2055d8f79ab520...   2017.0  1400000   \n",
      "\n",
      "         job_position  ctc_updated_year  Years_of_Experience  count  \\\n",
      "0               Other            2020.0                  8.0    1.0   \n",
      "1  FullStack Engineer            2019.0                  6.0    7.0   \n",
      "2    Backend Engineer            2020.0                  9.0    1.0   \n",
      "3    Backend Engineer            2019.0                  7.0   13.0   \n",
      "4  FullStack Engineer            2019.0                  7.0    1.0   \n",
      "\n",
      "           mean  ...  Class  count_company  mean_company   std_company  \\\n",
      "0  1.100000e+06  ...      2            9.0  1.115667e+06  4.581119e+05   \n",
      "1  7.742856e+05  ...      3          429.0  2.193027e+06  1.184184e+07   \n",
      "2  2.000000e+06  ...      2            1.0  2.000000e+06           NaN   \n",
      "3  1.436154e+06  ...      3           70.0  1.713929e+06  9.677693e+05   \n",
      "4  1.400000e+06  ...      2            6.0  9.400000e+05  3.898718e+05   \n",
      "\n",
      "   min_company  25%_company  50%_company  75%_company  max_company  Tier  \n",
      "0     500000.0     800000.0    1070000.0    1500000.0    1771000.0     3  \n",
      "1      10000.0     600000.0     900000.0    1685000.0  200000000.0     3  \n",
      "2    2000000.0    2000000.0    2000000.0    2000000.0    2000000.0     2  \n",
      "3     200000.0    1100000.0    1400000.0    2000000.0    4700000.0     3  \n",
      "4     540000.0     625000.0     850000.0    1300000.0    1400000.0     1  \n",
      "\n",
      "[5 rows x 27 columns]\n"
     ]
    }
   ],
   "source": [
    "# Create a summary of CTC by Company, Job Position, and Years of Experience\n",
    "ctc_summary = df.groupby(['company_hash', 'job_position', 'Years_of_Experience'])['ctc'].describe()\n",
    "\n",
    "# Merge the summary with the original dataset\n",
    "df = df.merge(ctc_summary, on=['company_hash', 'job_position', 'Years_of_Experience'], how='left')\n",
    "\n",
    "# Create the Designation flag\n",
    "df['Designation'] = np.where(df['ctc'] > df['mean'], 1, np.where(df['ctc'] == df['mean'], 2, 3))\n",
    "\n",
    "# Create the Class flag\n",
    "df['Class'] = np.where(df['ctc'] > df['mean'], 1, np.where(df['ctc'] == df['mean'], 2, 3))\n",
    "\n",
    "# Create the Tier flag\n",
    "tier_summary = df.groupby(['company_hash'])['ctc'].describe()\n",
    "df = df.merge(tier_summary, on='company_hash', how='left', suffixes=('', '_company'))\n",
    "\n",
    "df['Tier'] = np.where(df['ctc'] > df['mean_company'], 1, np.where(df['ctc'] == df['mean_company'], 2, 3))\n",
    "\n",
    "print(df.head())\n"
   ]
  },
  {
   "cell_type": "code",
   "execution_count": 9,
   "id": "d62437a5-d802-46d2-bd8a-edf5c179dad6",
   "metadata": {},
   "outputs": [
    {
     "name": "stdout",
     "output_type": "stream",
     "text": [
      "Top 10 Tier 1 employees:\n",
      "         Unnamed: 0                   company_hash  \\\n",
      "117636      117948                   obvqnuqxdwgb   \n",
      "57039        57111                     nvnv trdox   \n",
      "201353      202403                         sggsrt   \n",
      "16372        16382          nvnv vacvzwta ojontbo   \n",
      "25450        25475                           ogzj   \n",
      "12577        12586             hzxntaytvrny sqghu   \n",
      "94834        95019                     eqttrvzwtq   \n",
      "45971        46025  ntwywg egqbtqrj ntwy wgwpnvxr   \n",
      "1052          1052                  otre tburgjta   \n",
      "12601        12610                  fxuqg rxbxnta   \n",
      "\n",
      "                                               email_hash  orgyear        ctc  \\\n",
      "117636  5b4bed51797140db4ed52018a979db1e34cee49e27b488...   2018.0  255555555   \n",
      "57039   f827f5d96673e7634c773613b9a73dcc1d4551340c26c4...   2018.0  200000000   \n",
      "201353  c45a51fdb92b3e1943ae10a8e2d2698971545ba1d0366c...   2018.0  200000000   \n",
      "16372   f41eebbad58b2b723eecfad23353d567d1b5ff98246a66...   2017.0  200000000   \n",
      "25450   7b3ea692648ca79af414b1d545f68f10f4f7197406c3b9...   2017.0  200000000   \n",
      "12577   e135ffb97e2b42e80c6e65445c303cd810ba000965966c...   2016.0  200000000   \n",
      "94834   6c3fdf30f18f40728fc5a7f08d8d120ad34992f268473d...   2021.0  200000000   \n",
      "45971   47d993914804e1a737d4af1b877ebb7f6867e39134d6d7...   2019.0  200000000   \n",
      "1052    4f83774dfe4b97bfd0836463f3a573aa82725aa8e0f4a4...   2020.0  200000000   \n",
      "12601   89f343bf01094accb8b0b2c799499daf6bf881321db2e4...   2017.0  200000000   \n",
      "\n",
      "             job_position  ctc_updated_year  Years_of_Experience  count  \\\n",
      "117636   Backend Engineer            2016.0                  6.0    2.0   \n",
      "57039               Other            2020.0                  6.0    5.0   \n",
      "201353   Backend Engineer            2019.0                  6.0   50.0   \n",
      "16372    Backend Engineer            2020.0                  7.0    2.0   \n",
      "25450               Other            2020.0                  7.0    1.0   \n",
      "12577    Backend Engineer            2020.0                  8.0   16.0   \n",
      "94834   Frontend Engineer            2021.0                  3.0    1.0   \n",
      "45971    Backend Engineer            2019.0                  5.0    1.0   \n",
      "1052                Other            2020.0                  4.0    5.0   \n",
      "12601    Backend Engineer            2020.0                  7.0  136.0   \n",
      "\n",
      "                mean  ...  Class  count_company  mean_company   std_company  \\\n",
      "117636  1.289778e+08  ...      1            6.0  4.395259e+07  1.036658e+08   \n",
      "57039   4.039200e+07  ...      1          110.0  2.582165e+06  1.900294e+07   \n",
      "201353  6.939140e+06  ...      1          468.0  5.652113e+06  1.944907e+07   \n",
      "16372   2.000000e+08  ...      2            3.0  1.342333e+08  1.139112e+08   \n",
      "25450   2.000000e+08  ...      2           17.0  1.264388e+07  4.828400e+07   \n",
      "12577   1.355793e+07  ...      1          481.0  2.194509e+06  1.040072e+07   \n",
      "94834   2.000000e+08  ...      2          177.0  5.663392e+06  2.824020e+07   \n",
      "45971   2.000000e+08  ...      2            2.0  1.000900e+08  1.412941e+08   \n",
      "1052    6.047200e+07  ...      1          664.0  6.250576e+06  2.556777e+07   \n",
      "12601   2.780454e+06  ...      1         2653.0  2.285326e+06  1.561007e+07   \n",
      "\n",
      "        min_company  25%_company  50%_company  75%_company  max_company  Tier  \n",
      "117636     750000.0    1252500.0    1955000.0    2350000.0  255555555.0     1  \n",
      "57039        6600.0     450000.0     650000.0     895000.0  200000000.0     1  \n",
      "201353       1000.0    1137500.0    2500000.0    3900000.0  200000000.0     1  \n",
      "16372     2700000.0  101350000.0  200000000.0  200000000.0  200000000.0     1  \n",
      "25450      100000.0     600000.0     871000.0    1300000.0  200000000.0     1  \n",
      "12577        4900.0     900000.0    1240000.0    1750000.0  200000000.0     1  \n",
      "94834        3000.0     200000.0     650000.0    1200000.0  200000000.0     1  \n",
      "45971      180000.0   50135000.0  100090000.0  150045000.0  200000000.0     1  \n",
      "1052         7000.0     357500.0     600000.0    1100000.0  200000000.0     1  \n",
      "12601        4000.0     380000.0     530000.0     800000.0  200000000.0     1  \n",
      "\n",
      "[10 rows x 27 columns]\n",
      "Bottom 10 Tier 3 employees:\n",
      "         Unnamed: 0               company_hash  \\\n",
      "135435      135886               xzntqcxtfmxn   \n",
      "118236      118549               xzntqcxtfmxn   \n",
      "114164      114452               xzntqcxtfmxn   \n",
      "184946      185851                         xm   \n",
      "116946      117256   hzxctqoxnj ge fvoyxzsngz   \n",
      "99419        99630                        gjg   \n",
      "150682      151262                        zvz   \n",
      "171196      171977  nvnv wgzohrnvzwj otqcxwto   \n",
      "107021      107273                    onvqnhu   \n",
      "93121        93299                        zvz   \n",
      "\n",
      "                                               email_hash  orgyear   ctc  \\\n",
      "135435  3505b02549ebe2c95840ac6f0a35561a3b4cbe4b79cdb1...   2014.0     2   \n",
      "118236  f2b58aeed3c074652de2cfd3c0717a5d21d6fbcf342a78...   2013.0     6   \n",
      "114164  23ad96d6b6f1ecf554a52f6e9b61677c7d73d8a409a143...   2013.0    14   \n",
      "184946  b8a0bb340583936b5a7923947e9aec21add5ebc50cd60b...   2016.0    15   \n",
      "116946  f7e5e788676100d7c4146740ada9e2f8974defc01f571d...   2022.0   200   \n",
      "99419   b995d7a2ae5c6f8497762ce04dc5c04ad6ec734d70802a...   2018.0   600   \n",
      "150682  9af3dca6c9d705d8d42585ccfce2627f00e1629130d14e...   2023.0   600   \n",
      "171196  80ba0259f9f59034c4927cf3bd38dc9ce2eb60ff18135b...   2012.0   600   \n",
      "107021  d9476096e4e5d6f0b0f6079b0543145f62b43c82478bbc...   2018.0  1000   \n",
      "93121   4ea8ce7809d8c69147d243bad53d88d016a1151690b8b6...   2010.0  1000   \n",
      "\n",
      "                  job_position  ctc_updated_year  Years_of_Experience  count  \\\n",
      "135435        Backend Engineer            2019.0                 10.0    4.0   \n",
      "118236        Backend Engineer            2018.0                 11.0    3.0   \n",
      "114164        Backend Engineer            2018.0                 11.0    3.0   \n",
      "184946        Backend Engineer            2018.0                  8.0    1.0   \n",
      "116946        Backend Engineer            2021.0                  2.0    1.0   \n",
      "99419       FullStack Engineer            2021.0                  6.0   14.0   \n",
      "150682        Backend Engineer            2019.0                  1.0   13.0   \n",
      "171196        Backend Engineer            2017.0                 12.0   93.0   \n",
      "107021            iOS Engineer            2020.0                  6.0    1.0   \n",
      "93121   Engineering Leadership            2020.0                 14.0    1.0   \n",
      "\n",
      "                mean  ...  Class  count_company  mean_company   std_company  \\\n",
      "135435  1.650000e+06  ...      3           74.0  1.471176e+06  1.759611e+06   \n",
      "118236  2.233400e+05  ...      3           74.0  1.471176e+06  1.759611e+06   \n",
      "114164  2.233400e+05  ...      3           74.0  1.471176e+06  1.759611e+06   \n",
      "184946  1.500000e+01  ...      2            2.0  1.550000e+01  7.071068e-01   \n",
      "116946  2.000000e+02  ...      2            3.0  3.140000e+04  5.078464e+04   \n",
      "99419   1.307186e+06  ...      3          473.0  2.229684e+06  1.023797e+07   \n",
      "150682  2.208508e+06  ...      3         1696.0  2.134877e+06  1.099630e+07   \n",
      "171196  2.030447e+06  ...      3         8337.0  1.651094e+06  1.265104e+07   \n",
      "107021  1.000000e+03  ...      2           81.0  7.289370e+06  3.281206e+07   \n",
      "93121   1.000000e+03  ...      2         1696.0  2.134877e+06  1.099630e+07   \n",
      "\n",
      "        min_company  25%_company  50%_company  75%_company  max_company  Tier  \n",
      "135435          2.0    225000.00    1000000.0   2000000.00   10000000.0     3  \n",
      "118236          2.0    225000.00    1000000.0   2000000.00   10000000.0     3  \n",
      "114164          2.0    225000.00    1000000.0   2000000.00   10000000.0     3  \n",
      "184946         15.0        15.25         15.5        15.75         16.0     3  \n",
      "116946        200.0      2100.00       4000.0     47000.00      90000.0     3  \n",
      "99419         600.0   1000000.00    1400000.0   1950000.00  200000000.0     3  \n",
      "150682        600.0    500000.00     924999.5   1600000.00  200000000.0     3  \n",
      "171196        600.0    380000.00     450000.0    700000.00  200000000.0     3  \n",
      "107021       1000.0    440000.00     800000.0   1480000.00  200000000.0     3  \n",
      "93121         600.0    500000.00     924999.5   1600000.00  200000000.0     3  \n",
      "\n",
      "[10 rows x 27 columns]\n",
      "Top 10 Data Science Class 1 employees:\n",
      " Empty DataFrame\n",
      "Columns: [Unnamed: 0, company_hash, email_hash, orgyear, ctc, job_position, ctc_updated_year, Years_of_Experience, count, mean, std, min, 25%, 50%, 75%, max, Designation, Class, count_company, mean_company, std_company, min_company, 25%_company, 50%_company, 75%_company, max_company, Tier]\n",
      "Index: []\n",
      "\n",
      "[0 rows x 27 columns]\n",
      "Bottom 10 Data Science Class 3 employees:\n",
      " Empty DataFrame\n",
      "Columns: [Unnamed: 0, company_hash, email_hash, orgyear, ctc, job_position, ctc_updated_year, Years_of_Experience, count, mean, std, min, 25%, 50%, 75%, max, Designation, Class, count_company, mean_company, std_company, min_company, 25%_company, 50%_company, 75%_company, max_company, Tier]\n",
      "Index: []\n",
      "\n",
      "[0 rows x 27 columns]\n"
     ]
    }
   ],
   "source": [
    "# Top 10 employees (Tier 1)\n",
    "top_tier_1 = df[df['Tier'] == 1].sort_values(by='ctc', ascending=False).head(10)\n",
    "print(\"Top 10 Tier 1 employees:\\n\", top_tier_1)\n",
    "\n",
    "# Bottom 10 employees (Tier 3)\n",
    "bottom_tier_3 = df[df['Tier'] == 3].sort_values(by='ctc').head(10)\n",
    "print(\"Bottom 10 Tier 3 employees:\\n\", bottom_tier_3)\n",
    "\n",
    "# Top 10 data science employees (Class 1)\n",
    "top_class_1 = df[(df['Class'] == 1) & (df['job_position'].str.contains('Data Science'))].sort_values(by='ctc', ascending=False).head(10)\n",
    "print(\"Top 10 Data Science Class 1 employees:\\n\", top_class_1)\n",
    "\n",
    "# Bottom 10 data science employees (Class 3)\n",
    "bottom_class_3 = df[(df['Class'] == 3) & (df['job_position'].str.contains('Data Science'))].sort_values(by='ctc').head(10)\n",
    "print(\"Bottom 10 Data Science Class 3 employees:\\n\", bottom_class_3)\n"
   ]
  },
  {
   "cell_type": "code",
   "execution_count": 11,
   "id": "948b6851-e648-4997-909e-ce4dd8be9b2c",
   "metadata": {},
   "outputs": [
    {
     "data": {
      "text/plain": [
       "array([[-1.65893867,  1.0714389 , -0.01757852, -0.09928789],\n",
       "       [ 0.00935945,  0.16497945, -0.049046  , -0.15436859],\n",
       "       [-0.36574084, -0.67006197, -0.00184478, -0.02302243],\n",
       "       ...,\n",
       "       [ 0.84128529, -0.67006197, -0.09624722, -0.13318365],\n",
       "       [ 1.45898245, -0.67006197, -0.06477974,  0.23966972],\n",
       "       [-1.55240236, -0.67006197,  0.01388896, -0.08742437]])"
      ]
     },
     "execution_count": 11,
     "metadata": {},
     "output_type": "execute_result"
    }
   ],
   "source": [
    "# Label encoding for categorical variables\n",
    "le = LabelEncoder()\n",
    "df['Company_hash_encoded'] = le.fit_transform(df['company_hash'])\n",
    "df['Job_position_encoded'] = le.fit_transform(df['job_position'])\n",
    "\n",
    "# Standardizing the data\n",
    "scaler = StandardScaler()\n",
    "df_scaled = scaler.fit_transform(df[['Company_hash_encoded', 'Job_position_encoded', 'Years_of_Experience', 'ctc']])\n",
    "df_scaled"
   ]
  },
  {
   "cell_type": "markdown",
   "id": "fb8b377f-2355-4c6b-b1de-a6942ddea066",
   "metadata": {},
   "source": [
    " Unsupervised Learning: Clustering"
   ]
  },
  {
   "cell_type": "code",
   "execution_count": 12,
   "id": "c6635cf9-b583-4831-9a1b-17ca85025b9d",
   "metadata": {},
   "outputs": [
    {
     "name": "stderr",
     "output_type": "stream",
     "text": [
      "C:\\Users\\User\\anaconda3\\Lib\\site-packages\\sklearn\\cluster\\_kmeans.py:870: FutureWarning: The default value of `n_init` will change from 10 to 'auto' in 1.4. Set the value of `n_init` explicitly to suppress the warning\n",
      "  warnings.warn(\n",
      "C:\\Users\\User\\anaconda3\\Lib\\site-packages\\sklearn\\cluster\\_kmeans.py:870: FutureWarning: The default value of `n_init` will change from 10 to 'auto' in 1.4. Set the value of `n_init` explicitly to suppress the warning\n",
      "  warnings.warn(\n",
      "C:\\Users\\User\\anaconda3\\Lib\\site-packages\\sklearn\\cluster\\_kmeans.py:870: FutureWarning: The default value of `n_init` will change from 10 to 'auto' in 1.4. Set the value of `n_init` explicitly to suppress the warning\n",
      "  warnings.warn(\n",
      "C:\\Users\\User\\anaconda3\\Lib\\site-packages\\sklearn\\cluster\\_kmeans.py:870: FutureWarning: The default value of `n_init` will change from 10 to 'auto' in 1.4. Set the value of `n_init` explicitly to suppress the warning\n",
      "  warnings.warn(\n",
      "C:\\Users\\User\\anaconda3\\Lib\\site-packages\\sklearn\\cluster\\_kmeans.py:870: FutureWarning: The default value of `n_init` will change from 10 to 'auto' in 1.4. Set the value of `n_init` explicitly to suppress the warning\n",
      "  warnings.warn(\n",
      "C:\\Users\\User\\anaconda3\\Lib\\site-packages\\sklearn\\cluster\\_kmeans.py:870: FutureWarning: The default value of `n_init` will change from 10 to 'auto' in 1.4. Set the value of `n_init` explicitly to suppress the warning\n",
      "  warnings.warn(\n",
      "C:\\Users\\User\\anaconda3\\Lib\\site-packages\\sklearn\\cluster\\_kmeans.py:870: FutureWarning: The default value of `n_init` will change from 10 to 'auto' in 1.4. Set the value of `n_init` explicitly to suppress the warning\n",
      "  warnings.warn(\n",
      "C:\\Users\\User\\anaconda3\\Lib\\site-packages\\sklearn\\cluster\\_kmeans.py:870: FutureWarning: The default value of `n_init` will change from 10 to 'auto' in 1.4. Set the value of `n_init` explicitly to suppress the warning\n",
      "  warnings.warn(\n",
      "C:\\Users\\User\\anaconda3\\Lib\\site-packages\\sklearn\\cluster\\_kmeans.py:870: FutureWarning: The default value of `n_init` will change from 10 to 'auto' in 1.4. Set the value of `n_init` explicitly to suppress the warning\n",
      "  warnings.warn(\n",
      "C:\\Users\\User\\anaconda3\\Lib\\site-packages\\sklearn\\cluster\\_kmeans.py:870: FutureWarning: The default value of `n_init` will change from 10 to 'auto' in 1.4. Set the value of `n_init` explicitly to suppress the warning\n",
      "  warnings.warn(\n"
     ]
    },
    {
     "data": {
      "image/png": "[encoded data removed]",
      "text/plain": [
       "<Figure size 640x480 with 1 Axes>"
      ]
     },
     "metadata": {},
     "output_type": "display_data"
    }
   ],
   "source": [
    "# Elbow method for determining the number of clusters\n",
    "wcss = []\n",
    "for i in range(1, 11):\n",
    "    kmeans = KMeans(n_clusters=i, random_state=42)\n",
    "    kmeans.fit(df_scaled)\n",
    "    wcss.append(kmeans.inertia_)\n",
    "\n",
    "# Plot the elbow graph\n",
    "plt.plot(range(1, 11), wcss)\n",
    "plt.title('Elbow Method')\n",
    "plt.xlabel('Number of Clusters')\n",
    "plt.ylabel('WCSS')\n",
    "plt.show()\n"
   ]
  },
  {
   "cell_type": "code",
   "execution_count": 13,
   "id": "448dc66f-41e8-43be-8873-0328765faec1",
   "metadata": {},
   "outputs": [
    {
     "name": "stderr",
     "output_type": "stream",
     "text": [
      "C:\\Users\\User\\anaconda3\\Lib\\site-packages\\sklearn\\cluster\\_kmeans.py:870: FutureWarning: The default value of `n_init` will change from 10 to 'auto' in 1.4. Set the value of `n_init` explicitly to suppress the warning\n",
      "  warnings.warn(\n"
     ]
    },
    {
     "name": "stdout",
     "output_type": "stream",
     "text": [
      "Cluster\n",
      "0    204501\n",
      "1      1340\n",
      "2         2\n",
      "Name: count, dtype: int64\n"
     ]
    }
   ],
   "source": [
    "# Apply K-means clustering with the optimal number of clusters (e.g., 3)\n",
    "kmeans = KMeans(n_clusters=3, random_state=42)\n",
    "df['Cluster'] = kmeans.fit_predict(df_scaled)\n",
    "\n",
    "# View the cluster assignment\n",
    "print(df['Cluster'].value_counts())\n"
   ]
  },
  {
   "cell_type": "code",
   "execution_count": null,
   "id": "72b536ff-4379-404e-9b9e-01648446dc73",
   "metadata": {},
   "outputs": [],
   "source": []
  }
 ],
 "metadata": {
  "kernelspec": {
   "display_name": "Python 3 (ipykernel)",
   "language": "python",
   "name": "python3"
  },
  "language_info": {
   "codemirror_mode": {
    "name": "ipython",
    "version": 3
   },
   "file_extension": ".py",
   "mimetype": "text/x-python",
   "name": "python",
   "nbconvert_exporter": "python",
   "pygments_lexer": "ipython3",
   "version": "3.11.7"
  }
 },
 "nbformat": 4,
 "nbformat_minor": 5
}
